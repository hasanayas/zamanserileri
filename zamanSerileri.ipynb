{
 "cells": [
  {
   "cell_type": "markdown",
   "id": "5b02d3c6",
   "metadata": {},
   "source": [
    "Kütüphaneleri import edildi."
   ]
  },
  {
   "cell_type": "code",
   "execution_count": 1,
   "id": "2b2f0d85",
   "metadata": {},
   "outputs": [],
   "source": [
    "import numpy as np\n",
    "import pandas as pd\n",
    "from datetime import datetime\n",
    "from IPython.display import Image"
   ]
  },
  {
   "cell_type": "markdown",
   "id": "48c58b2e",
   "metadata": {},
   "source": [
    "data sözlüğü oluşturup içine bazı datalar girildi."
   ]
  },
  {
   "cell_type": "code",
   "execution_count": 2,
   "id": "17e305b3",
   "metadata": {},
   "outputs": [],
   "source": [
    "data = {'date': ['2018-01-01', '2018-02-01','2018-03-01', '2018-04-01',\n",
    "'2018-05-01', '2018-06-01',\n",
    "'2018-01-01', '2018-02-01',\n",
    "'2018-03-01', '2018-04-01',\n",
    "'2018-05-01', '2018-06-01'],\n",
    "'visitors': [35, 30, 82, 26, 83, 46, 40, 57, 95, 57, 87, 42]}"
   ]
  },
  {
   "cell_type": "markdown",
   "id": "6791637f",
   "metadata": {},
   "source": [
    "Pandas veri çerçevesine dönüştürdüldü."
   ]
  },
  {
   "cell_type": "code",
   "execution_count": 3,
   "id": "11df3b7b",
   "metadata": {},
   "outputs": [],
   "source": [
    "df = pd.DataFrame(data,\n",
    "columns=['date', 'visitors'])"
   ]
  },
  {
   "cell_type": "markdown",
   "id": "08c3c826",
   "metadata": {},
   "source": [
    "Sütun başlıklarını gösterildi."
   ]
  },
  {
   "cell_type": "code",
   "execution_count": 4,
   "id": "6f0317c8",
   "metadata": {},
   "outputs": [
    {
     "data": {
      "text/html": [
       "<div>\n",
       "<style scoped>\n",
       "    .dataframe tbody tr th:only-of-type {\n",
       "        vertical-align: middle;\n",
       "    }\n",
       "\n",
       "    .dataframe tbody tr th {\n",
       "        vertical-align: top;\n",
       "    }\n",
       "\n",
       "    .dataframe thead th {\n",
       "        text-align: right;\n",
       "    }\n",
       "</style>\n",
       "<table border=\"1\" class=\"dataframe\">\n",
       "  <thead>\n",
       "    <tr style=\"text-align: right;\">\n",
       "      <th></th>\n",
       "      <th>date</th>\n",
       "      <th>visitors</th>\n",
       "    </tr>\n",
       "  </thead>\n",
       "  <tbody>\n",
       "    <tr>\n",
       "      <th>0</th>\n",
       "      <td>2018-01-01</td>\n",
       "      <td>35</td>\n",
       "    </tr>\n",
       "    <tr>\n",
       "      <th>1</th>\n",
       "      <td>2018-02-01</td>\n",
       "      <td>30</td>\n",
       "    </tr>\n",
       "    <tr>\n",
       "      <th>2</th>\n",
       "      <td>2018-03-01</td>\n",
       "      <td>82</td>\n",
       "    </tr>\n",
       "    <tr>\n",
       "      <th>3</th>\n",
       "      <td>2018-04-01</td>\n",
       "      <td>26</td>\n",
       "    </tr>\n",
       "    <tr>\n",
       "      <th>4</th>\n",
       "      <td>2018-05-01</td>\n",
       "      <td>83</td>\n",
       "    </tr>\n",
       "  </tbody>\n",
       "</table>\n",
       "</div>"
      ],
      "text/plain": [
       "         date  visitors\n",
       "0  2018-01-01        35\n",
       "1  2018-02-01        30\n",
       "2  2018-03-01        82\n",
       "3  2018-04-01        26\n",
       "4  2018-05-01        83"
      ]
     },
     "execution_count": 4,
     "metadata": {},
     "output_type": "execute_result"
    }
   ],
   "source": [
    "df.head()"
   ]
  },
  {
   "cell_type": "markdown",
   "id": "3b0a6317",
   "metadata": {},
   "source": [
    "date tiplerini gösterildi."
   ]
  },
  {
   "cell_type": "code",
   "execution_count": 5,
   "id": "f9e84b28",
   "metadata": {
    "scrolled": true
   },
   "outputs": [
    {
     "data": {
      "text/plain": [
       "date        object\n",
       "visitors     int64\n",
       "dtype: object"
      ]
     },
     "execution_count": 5,
     "metadata": {},
     "output_type": "execute_result"
    }
   ],
   "source": [
    "df.dtypes"
   ]
  },
  {
   "cell_type": "markdown",
   "id": "428eaed8",
   "metadata": {},
   "source": [
    "Date sütunu nesne olarak gösterildiği için değiştirildi."
   ]
  },
  {
   "cell_type": "code",
   "execution_count": 6,
   "id": "5f3234fe",
   "metadata": {},
   "outputs": [],
   "source": [
    "df['date'] = pd.to_datetime(df['date'])"
   ]
  },
  {
   "cell_type": "markdown",
   "id": "c97b1424",
   "metadata": {},
   "source": [
    "Bir dizin belirledik ve veri çerçevesini bu dizine göre sıralandı."
   ]
  },
  {
   "cell_type": "code",
   "execution_count": 7,
   "id": "f7f266a0",
   "metadata": {},
   "outputs": [],
   "source": [
    "df.set_index('date', inplace=True) \n",
    "df.sort_index(inplace=True)"
   ]
  },
  {
   "cell_type": "markdown",
   "id": "5b0eb631",
   "metadata": {},
   "source": [
    "Sütun başlıkları gösterildi."
   ]
  },
  {
   "cell_type": "code",
   "execution_count": 8,
   "id": "98c6d835",
   "metadata": {},
   "outputs": [
    {
     "data": {
      "text/html": [
       "<div>\n",
       "<style scoped>\n",
       "    .dataframe tbody tr th:only-of-type {\n",
       "        vertical-align: middle;\n",
       "    }\n",
       "\n",
       "    .dataframe tbody tr th {\n",
       "        vertical-align: top;\n",
       "    }\n",
       "\n",
       "    .dataframe thead th {\n",
       "        text-align: right;\n",
       "    }\n",
       "</style>\n",
       "<table border=\"1\" class=\"dataframe\">\n",
       "  <thead>\n",
       "    <tr style=\"text-align: right;\">\n",
       "      <th></th>\n",
       "      <th>visitors</th>\n",
       "    </tr>\n",
       "    <tr>\n",
       "      <th>date</th>\n",
       "      <th></th>\n",
       "    </tr>\n",
       "  </thead>\n",
       "  <tbody>\n",
       "    <tr>\n",
       "      <th>2018-01-01</th>\n",
       "      <td>35</td>\n",
       "    </tr>\n",
       "    <tr>\n",
       "      <th>2018-01-01</th>\n",
       "      <td>40</td>\n",
       "    </tr>\n",
       "    <tr>\n",
       "      <th>2018-02-01</th>\n",
       "      <td>30</td>\n",
       "    </tr>\n",
       "    <tr>\n",
       "      <th>2018-02-01</th>\n",
       "      <td>57</td>\n",
       "    </tr>\n",
       "    <tr>\n",
       "      <th>2018-03-01</th>\n",
       "      <td>82</td>\n",
       "    </tr>\n",
       "  </tbody>\n",
       "</table>\n",
       "</div>"
      ],
      "text/plain": [
       "            visitors\n",
       "date                \n",
       "2018-01-01        35\n",
       "2018-01-01        40\n",
       "2018-02-01        30\n",
       "2018-02-01        57\n",
       "2018-03-01        82"
      ]
     },
     "execution_count": 8,
     "metadata": {},
     "output_type": "execute_result"
    }
   ],
   "source": [
    "df.head()"
   ]
  },
  {
   "cell_type": "markdown",
   "id": "9c825847",
   "metadata": {},
   "source": [
    "2018 yılı ziyaretçilerine bakabiliriz ama kitapta df('2018-05') gibi bir ifade verilmiş ama sürüm farkından dolayı aşağıdaki gibi tanımlandı."
   ]
  },
  {
   "cell_type": "code",
   "execution_count": 9,
   "id": "90bd244c",
   "metadata": {
    "scrolled": true
   },
   "outputs": [
    {
     "data": {
      "text/html": [
       "<div>\n",
       "<style scoped>\n",
       "    .dataframe tbody tr th:only-of-type {\n",
       "        vertical-align: middle;\n",
       "    }\n",
       "\n",
       "    .dataframe tbody tr th {\n",
       "        vertical-align: top;\n",
       "    }\n",
       "\n",
       "    .dataframe thead th {\n",
       "        text-align: right;\n",
       "    }\n",
       "</style>\n",
       "<table border=\"1\" class=\"dataframe\">\n",
       "  <thead>\n",
       "    <tr style=\"text-align: right;\">\n",
       "      <th></th>\n",
       "      <th>visitors</th>\n",
       "    </tr>\n",
       "    <tr>\n",
       "      <th>date</th>\n",
       "      <th></th>\n",
       "    </tr>\n",
       "  </thead>\n",
       "  <tbody>\n",
       "    <tr>\n",
       "      <th>2018-05-01</th>\n",
       "      <td>83</td>\n",
       "    </tr>\n",
       "    <tr>\n",
       "      <th>2018-05-01</th>\n",
       "      <td>87</td>\n",
       "    </tr>\n",
       "  </tbody>\n",
       "</table>\n",
       "</div>"
      ],
      "text/plain": [
       "            visitors\n",
       "date                \n",
       "2018-05-01        83\n",
       "2018-05-01        87"
      ]
     },
     "execution_count": 9,
     "metadata": {},
     "output_type": "execute_result"
    }
   ],
   "source": [
    "df.loc['2018-05']"
   ]
  },
  {
   "cell_type": "markdown",
   "id": "8ceb723a",
   "metadata": {},
   "source": [
    "2018-03-01 tarihinden sonrasını almak için iki nokta üst üste kullanıldı."
   ]
  },
  {
   "cell_type": "code",
   "execution_count": 10,
   "id": "7a0e484c",
   "metadata": {},
   "outputs": [
    {
     "data": {
      "text/html": [
       "<div>\n",
       "<style scoped>\n",
       "    .dataframe tbody tr th:only-of-type {\n",
       "        vertical-align: middle;\n",
       "    }\n",
       "\n",
       "    .dataframe tbody tr th {\n",
       "        vertical-align: top;\n",
       "    }\n",
       "\n",
       "    .dataframe thead th {\n",
       "        text-align: right;\n",
       "    }\n",
       "</style>\n",
       "<table border=\"1\" class=\"dataframe\">\n",
       "  <thead>\n",
       "    <tr style=\"text-align: right;\">\n",
       "      <th></th>\n",
       "      <th>visitors</th>\n",
       "    </tr>\n",
       "    <tr>\n",
       "      <th>date</th>\n",
       "      <th></th>\n",
       "    </tr>\n",
       "  </thead>\n",
       "  <tbody>\n",
       "    <tr>\n",
       "      <th>2018-03-01</th>\n",
       "      <td>82</td>\n",
       "    </tr>\n",
       "    <tr>\n",
       "      <th>2018-03-01</th>\n",
       "      <td>95</td>\n",
       "    </tr>\n",
       "    <tr>\n",
       "      <th>2018-04-01</th>\n",
       "      <td>26</td>\n",
       "    </tr>\n",
       "    <tr>\n",
       "      <th>2018-04-01</th>\n",
       "      <td>57</td>\n",
       "    </tr>\n",
       "    <tr>\n",
       "      <th>2018-05-01</th>\n",
       "      <td>83</td>\n",
       "    </tr>\n",
       "    <tr>\n",
       "      <th>2018-05-01</th>\n",
       "      <td>87</td>\n",
       "    </tr>\n",
       "    <tr>\n",
       "      <th>2018-06-01</th>\n",
       "      <td>46</td>\n",
       "    </tr>\n",
       "    <tr>\n",
       "      <th>2018-06-01</th>\n",
       "      <td>42</td>\n",
       "    </tr>\n",
       "  </tbody>\n",
       "</table>\n",
       "</div>"
      ],
      "text/plain": [
       "            visitors\n",
       "date                \n",
       "2018-03-01        82\n",
       "2018-03-01        95\n",
       "2018-04-01        26\n",
       "2018-04-01        57\n",
       "2018-05-01        83\n",
       "2018-05-01        87\n",
       "2018-06-01        46\n",
       "2018-06-01        42"
      ]
     },
     "execution_count": 10,
     "metadata": {},
     "output_type": "execute_result"
    }
   ],
   "source": [
    "df[datetime(2018, 3, 1):]"
   ]
  },
  {
   "cell_type": "markdown",
   "id": "2b423c44",
   "metadata": {},
   "source": [
    "After ifadesini kullanarak o tarihten önceki tarihleri alındı."
   ]
  },
  {
   "cell_type": "code",
   "execution_count": 11,
   "id": "734a9232",
   "metadata": {},
   "outputs": [
    {
     "data": {
      "text/html": [
       "<div>\n",
       "<style scoped>\n",
       "    .dataframe tbody tr th:only-of-type {\n",
       "        vertical-align: middle;\n",
       "    }\n",
       "\n",
       "    .dataframe tbody tr th {\n",
       "        vertical-align: top;\n",
       "    }\n",
       "\n",
       "    .dataframe thead th {\n",
       "        text-align: right;\n",
       "    }\n",
       "</style>\n",
       "<table border=\"1\" class=\"dataframe\">\n",
       "  <thead>\n",
       "    <tr style=\"text-align: right;\">\n",
       "      <th></th>\n",
       "      <th>visitors</th>\n",
       "    </tr>\n",
       "    <tr>\n",
       "      <th>date</th>\n",
       "      <th></th>\n",
       "    </tr>\n",
       "  </thead>\n",
       "  <tbody>\n",
       "    <tr>\n",
       "      <th>2018-01-01</th>\n",
       "      <td>35</td>\n",
       "    </tr>\n",
       "    <tr>\n",
       "      <th>2018-01-01</th>\n",
       "      <td>40</td>\n",
       "    </tr>\n",
       "    <tr>\n",
       "      <th>2018-02-01</th>\n",
       "      <td>30</td>\n",
       "    </tr>\n",
       "    <tr>\n",
       "      <th>2018-02-01</th>\n",
       "      <td>57</td>\n",
       "    </tr>\n",
       "    <tr>\n",
       "      <th>2018-03-01</th>\n",
       "      <td>82</td>\n",
       "    </tr>\n",
       "    <tr>\n",
       "      <th>2018-03-01</th>\n",
       "      <td>95</td>\n",
       "    </tr>\n",
       "  </tbody>\n",
       "</table>\n",
       "</div>"
      ],
      "text/plain": [
       "            visitors\n",
       "date                \n",
       "2018-01-01        35\n",
       "2018-01-01        40\n",
       "2018-02-01        30\n",
       "2018-02-01        57\n",
       "2018-03-01        82\n",
       "2018-03-01        95"
      ]
     },
     "execution_count": 11,
     "metadata": {},
     "output_type": "execute_result"
    }
   ],
   "source": [
    "df.truncate(after='2018-03-01')"
   ]
  },
  {
   "cell_type": "markdown",
   "id": "f24939b6",
   "metadata": {},
   "source": [
    "aynı tarihlerin kaç kez tekrarladığını gösterildi.(Count metodu sayesinde)"
   ]
  },
  {
   "cell_type": "code",
   "execution_count": 12,
   "id": "098954fd",
   "metadata": {},
   "outputs": [
    {
     "data": {
      "text/html": [
       "<div>\n",
       "<style scoped>\n",
       "    .dataframe tbody tr th:only-of-type {\n",
       "        vertical-align: middle;\n",
       "    }\n",
       "\n",
       "    .dataframe tbody tr th {\n",
       "        vertical-align: top;\n",
       "    }\n",
       "\n",
       "    .dataframe thead th {\n",
       "        text-align: right;\n",
       "    }\n",
       "</style>\n",
       "<table border=\"1\" class=\"dataframe\">\n",
       "  <thead>\n",
       "    <tr style=\"text-align: right;\">\n",
       "      <th></th>\n",
       "      <th>visitors</th>\n",
       "    </tr>\n",
       "    <tr>\n",
       "      <th>date</th>\n",
       "      <th></th>\n",
       "    </tr>\n",
       "  </thead>\n",
       "  <tbody>\n",
       "    <tr>\n",
       "      <th>2018-01-01</th>\n",
       "      <td>2</td>\n",
       "    </tr>\n",
       "    <tr>\n",
       "      <th>2018-02-01</th>\n",
       "      <td>2</td>\n",
       "    </tr>\n",
       "    <tr>\n",
       "      <th>2018-03-01</th>\n",
       "      <td>2</td>\n",
       "    </tr>\n",
       "    <tr>\n",
       "      <th>2018-04-01</th>\n",
       "      <td>2</td>\n",
       "    </tr>\n",
       "    <tr>\n",
       "      <th>2018-05-01</th>\n",
       "      <td>2</td>\n",
       "    </tr>\n",
       "    <tr>\n",
       "      <th>2018-06-01</th>\n",
       "      <td>2</td>\n",
       "    </tr>\n",
       "  </tbody>\n",
       "</table>\n",
       "</div>"
      ],
      "text/plain": [
       "            visitors\n",
       "date                \n",
       "2018-01-01         2\n",
       "2018-02-01         2\n",
       "2018-03-01         2\n",
       "2018-04-01         2\n",
       "2018-05-01         2\n",
       "2018-06-01         2"
      ]
     },
     "execution_count": 12,
     "metadata": {},
     "output_type": "execute_result"
    }
   ],
   "source": [
    "df.groupby('date').count()"
   ]
  },
  {
   "cell_type": "markdown",
   "id": "40b1629b",
   "metadata": {},
   "source": [
    "Aylık iki girişimiz vardı. 'M' ifadesiyle ayların ortalamasını alındı."
   ]
  },
  {
   "cell_type": "code",
   "execution_count": 13,
   "id": "768d0c6d",
   "metadata": {},
   "outputs": [
    {
     "data": {
      "text/html": [
       "<div>\n",
       "<style scoped>\n",
       "    .dataframe tbody tr th:only-of-type {\n",
       "        vertical-align: middle;\n",
       "    }\n",
       "\n",
       "    .dataframe tbody tr th {\n",
       "        vertical-align: top;\n",
       "    }\n",
       "\n",
       "    .dataframe thead th {\n",
       "        text-align: right;\n",
       "    }\n",
       "</style>\n",
       "<table border=\"1\" class=\"dataframe\">\n",
       "  <thead>\n",
       "    <tr style=\"text-align: right;\">\n",
       "      <th></th>\n",
       "      <th>visitors</th>\n",
       "    </tr>\n",
       "    <tr>\n",
       "      <th>date</th>\n",
       "      <th></th>\n",
       "    </tr>\n",
       "  </thead>\n",
       "  <tbody>\n",
       "    <tr>\n",
       "      <th>2018-01-31</th>\n",
       "      <td>37.5</td>\n",
       "    </tr>\n",
       "    <tr>\n",
       "      <th>2018-02-28</th>\n",
       "      <td>43.5</td>\n",
       "    </tr>\n",
       "    <tr>\n",
       "      <th>2018-03-31</th>\n",
       "      <td>88.5</td>\n",
       "    </tr>\n",
       "    <tr>\n",
       "      <th>2018-04-30</th>\n",
       "      <td>41.5</td>\n",
       "    </tr>\n",
       "    <tr>\n",
       "      <th>2018-05-31</th>\n",
       "      <td>85.0</td>\n",
       "    </tr>\n",
       "    <tr>\n",
       "      <th>2018-06-30</th>\n",
       "      <td>44.0</td>\n",
       "    </tr>\n",
       "  </tbody>\n",
       "</table>\n",
       "</div>"
      ],
      "text/plain": [
       "            visitors\n",
       "date                \n",
       "2018-01-31      37.5\n",
       "2018-02-28      43.5\n",
       "2018-03-31      88.5\n",
       "2018-04-30      41.5\n",
       "2018-05-31      85.0\n",
       "2018-06-30      44.0"
      ]
     },
     "execution_count": 13,
     "metadata": {},
     "output_type": "execute_result"
    }
   ],
   "source": [
    "df.resample('M').mean()"
   ]
  },
  {
   "cell_type": "markdown",
   "id": "0d9183d0",
   "metadata": {},
   "source": [
    "Ayların toplamı alındı."
   ]
  },
  {
   "cell_type": "code",
   "execution_count": 14,
   "id": "14883487",
   "metadata": {
    "scrolled": true
   },
   "outputs": [
    {
     "data": {
      "text/html": [
       "<div>\n",
       "<style scoped>\n",
       "    .dataframe tbody tr th:only-of-type {\n",
       "        vertical-align: middle;\n",
       "    }\n",
       "\n",
       "    .dataframe tbody tr th {\n",
       "        vertical-align: top;\n",
       "    }\n",
       "\n",
       "    .dataframe thead th {\n",
       "        text-align: right;\n",
       "    }\n",
       "</style>\n",
       "<table border=\"1\" class=\"dataframe\">\n",
       "  <thead>\n",
       "    <tr style=\"text-align: right;\">\n",
       "      <th></th>\n",
       "      <th>visitors</th>\n",
       "    </tr>\n",
       "    <tr>\n",
       "      <th>date</th>\n",
       "      <th></th>\n",
       "    </tr>\n",
       "  </thead>\n",
       "  <tbody>\n",
       "    <tr>\n",
       "      <th>2018-01-31</th>\n",
       "      <td>75</td>\n",
       "    </tr>\n",
       "    <tr>\n",
       "      <th>2018-02-28</th>\n",
       "      <td>87</td>\n",
       "    </tr>\n",
       "    <tr>\n",
       "      <th>2018-03-31</th>\n",
       "      <td>177</td>\n",
       "    </tr>\n",
       "    <tr>\n",
       "      <th>2018-04-30</th>\n",
       "      <td>83</td>\n",
       "    </tr>\n",
       "    <tr>\n",
       "      <th>2018-05-31</th>\n",
       "      <td>170</td>\n",
       "    </tr>\n",
       "    <tr>\n",
       "      <th>2018-06-30</th>\n",
       "      <td>88</td>\n",
       "    </tr>\n",
       "  </tbody>\n",
       "</table>\n",
       "</div>"
      ],
      "text/plain": [
       "            visitors\n",
       "date                \n",
       "2018-01-31        75\n",
       "2018-02-28        87\n",
       "2018-03-31       177\n",
       "2018-04-30        83\n",
       "2018-05-31       170\n",
       "2018-06-30        88"
      ]
     },
     "execution_count": 14,
     "metadata": {},
     "output_type": "execute_result"
    }
   ],
   "source": [
    "df.resample('M').sum()"
   ]
  },
  {
   "cell_type": "markdown",
   "id": "d8143a8b",
   "metadata": {},
   "source": [
    "Ziyaretçi grafiğini çıkartıldı."
   ]
  },
  {
   "cell_type": "code",
   "execution_count": 15,
   "id": "b767ad91",
   "metadata": {
    "scrolled": true
   },
   "outputs": [
    {
     "data": {
      "text/plain": [
       "<AxesSubplot:xlabel='date'>"
      ]
     },
     "execution_count": 15,
     "metadata": {},
     "output_type": "execute_result"
    },
    {
     "data": {
      "image/png": "[encoded data removed]",
      "text/plain": [
       "<Figure size 432x288 with 1 Axes>"
      ]
     },
     "metadata": {
      "needs_background": "light"
     },
     "output_type": "display_data"
    }
   ],
   "source": [
    "df.plot()"
   ]
  },
  {
   "cell_type": "markdown",
   "id": "5a0c097d",
   "metadata": {},
   "source": [
    " #### Açıklamalar\n",
    "- *B* :iş günü frekansı\n",
    "- *C* :özel iş günü frekansı\n",
    "- *D* :takvim günü frekansı\n",
    "- *W* :haftalık frekans\n",
    "- *M* :ay sonu frekansı\n",
    "- *SM* :yarı ay sonu frekansı (15. ve ayın sonu)\n",
    "- *BM* :iş ayı sonu frekansı\n",
    "- *CBM* :özel iş ay sonu frekansı\n",
    "- *MS* :ay-başlangıç frekansı\n",
    "- *SMS* :altı aylık başlangıç frekansı\n",
    "- *BMS* :iş ayı başlangıç frekansı\n",
    "- *CBMS* :özel iş ay başlangıç frekansı\n",
    "- *Q* :çeyrek bitiş frekansı\n",
    "- *BQ* :iş çeyreği sonu frekansı\n",
    "- *QS* :çeyrek başlangıç frekansı\n",
    "- *BQS* :iş çeyreği-başlangıç frekansı\n",
    "- *A,Y* :yıl sonu frekansı\n",
    "- *BA,BY* :iş yılı sonu frekansı\n",
    "- *AS,YS* :yıl başlangıç frekansı\n",
    "- *BAS,BYS* :iş yılı başlangıç frekansı\n",
    "- *BH* :iş saati frekansı\n",
    "- *H* :saatlik frekans\n",
    "- *T,min* :dakika frekansı\n",
    "- *S* :saniye frekans\n",
    "- *L,ms* :milisaniye\n",
    "- *U,us* :mikrosaniye\n",
    "- *N* :nanosaniye"
   ]
  },
  {
   "cell_type": "markdown",
   "id": "ca930490",
   "metadata": {},
   "source": [
    "Ziyaretçilerin tarihlere göre istatistik verileri gösterildi."
   ]
  },
  {
   "cell_type": "code",
   "execution_count": 16,
   "id": "81723452",
   "metadata": {},
   "outputs": [
    {
     "data": {
      "text/html": [
       "<div>\n",
       "<style scoped>\n",
       "    .dataframe tbody tr th:only-of-type {\n",
       "        vertical-align: middle;\n",
       "    }\n",
       "\n",
       "    .dataframe tbody tr th {\n",
       "        vertical-align: top;\n",
       "    }\n",
       "\n",
       "    .dataframe thead tr th {\n",
       "        text-align: left;\n",
       "    }\n",
       "\n",
       "    .dataframe thead tr:last-of-type th {\n",
       "        text-align: right;\n",
       "    }\n",
       "</style>\n",
       "<table border=\"1\" class=\"dataframe\">\n",
       "  <thead>\n",
       "    <tr>\n",
       "      <th></th>\n",
       "      <th colspan=\"8\" halign=\"left\">visitors</th>\n",
       "    </tr>\n",
       "    <tr>\n",
       "      <th></th>\n",
       "      <th>count</th>\n",
       "      <th>mean</th>\n",
       "      <th>std</th>\n",
       "      <th>min</th>\n",
       "      <th>25%</th>\n",
       "      <th>50%</th>\n",
       "      <th>75%</th>\n",
       "      <th>max</th>\n",
       "    </tr>\n",
       "    <tr>\n",
       "      <th>date</th>\n",
       "      <th></th>\n",
       "      <th></th>\n",
       "      <th></th>\n",
       "      <th></th>\n",
       "      <th></th>\n",
       "      <th></th>\n",
       "      <th></th>\n",
       "      <th></th>\n",
       "    </tr>\n",
       "  </thead>\n",
       "  <tbody>\n",
       "    <tr>\n",
       "      <th>2018-01-01</th>\n",
       "      <td>2.0</td>\n",
       "      <td>37.5</td>\n",
       "      <td>3.535534</td>\n",
       "      <td>35.0</td>\n",
       "      <td>36.25</td>\n",
       "      <td>37.5</td>\n",
       "      <td>38.75</td>\n",
       "      <td>40.0</td>\n",
       "    </tr>\n",
       "    <tr>\n",
       "      <th>2018-02-01</th>\n",
       "      <td>2.0</td>\n",
       "      <td>43.5</td>\n",
       "      <td>19.091883</td>\n",
       "      <td>30.0</td>\n",
       "      <td>36.75</td>\n",
       "      <td>43.5</td>\n",
       "      <td>50.25</td>\n",
       "      <td>57.0</td>\n",
       "    </tr>\n",
       "    <tr>\n",
       "      <th>2018-03-01</th>\n",
       "      <td>2.0</td>\n",
       "      <td>88.5</td>\n",
       "      <td>9.192388</td>\n",
       "      <td>82.0</td>\n",
       "      <td>85.25</td>\n",
       "      <td>88.5</td>\n",
       "      <td>91.75</td>\n",
       "      <td>95.0</td>\n",
       "    </tr>\n",
       "    <tr>\n",
       "      <th>2018-04-01</th>\n",
       "      <td>2.0</td>\n",
       "      <td>41.5</td>\n",
       "      <td>21.920310</td>\n",
       "      <td>26.0</td>\n",
       "      <td>33.75</td>\n",
       "      <td>41.5</td>\n",
       "      <td>49.25</td>\n",
       "      <td>57.0</td>\n",
       "    </tr>\n",
       "    <tr>\n",
       "      <th>2018-05-01</th>\n",
       "      <td>2.0</td>\n",
       "      <td>85.0</td>\n",
       "      <td>2.828427</td>\n",
       "      <td>83.0</td>\n",
       "      <td>84.00</td>\n",
       "      <td>85.0</td>\n",
       "      <td>86.00</td>\n",
       "      <td>87.0</td>\n",
       "    </tr>\n",
       "    <tr>\n",
       "      <th>2018-06-01</th>\n",
       "      <td>2.0</td>\n",
       "      <td>44.0</td>\n",
       "      <td>2.828427</td>\n",
       "      <td>42.0</td>\n",
       "      <td>43.00</td>\n",
       "      <td>44.0</td>\n",
       "      <td>45.00</td>\n",
       "      <td>46.0</td>\n",
       "    </tr>\n",
       "  </tbody>\n",
       "</table>\n",
       "</div>"
      ],
      "text/plain": [
       "           visitors                                                 \n",
       "              count  mean        std   min    25%   50%    75%   max\n",
       "date                                                                \n",
       "2018-01-01      2.0  37.5   3.535534  35.0  36.25  37.5  38.75  40.0\n",
       "2018-02-01      2.0  43.5  19.091883  30.0  36.75  43.5  50.25  57.0\n",
       "2018-03-01      2.0  88.5   9.192388  82.0  85.25  88.5  91.75  95.0\n",
       "2018-04-01      2.0  41.5  21.920310  26.0  33.75  41.5  49.25  57.0\n",
       "2018-05-01      2.0  85.0   2.828427  83.0  84.00  85.0  86.00  87.0\n",
       "2018-06-01      2.0  44.0   2.828427  42.0  43.00  44.0  45.00  46.0"
      ]
     },
     "execution_count": 16,
     "metadata": {},
     "output_type": "execute_result"
    }
   ],
   "source": [
    "df.groupby('date').describe()"
   ]
  },
  {
   "cell_type": "markdown",
   "id": "1f7fc24f",
   "metadata": {},
   "source": [
    "string verilen tarihi to_datetime ile aşağıdaki gibi çevrildi."
   ]
  },
  {
   "cell_type": "code",
   "execution_count": 17,
   "id": "3b1df439",
   "metadata": {},
   "outputs": [
    {
     "name": "stdout",
     "output_type": "stream",
     "text": [
      "2016-10-14 00:00:00\n"
     ]
    }
   ],
   "source": [
    "date=pd.to_datetime(\"14th of October,2016\")\n",
    "print(date)"
   ]
  },
  {
   "cell_type": "markdown",
   "id": "d3fc033b",
   "metadata": {},
   "source": []
  },
  {
   "cell_type": "markdown",
   "id": "67c862f8",
   "metadata": {},
   "source": [
    "İlgili parametreler verilerek gün ve ay çıktıları alındı."
   ]
  },
  {
   "cell_type": "code",
   "execution_count": 18,
   "id": "71891d25",
   "metadata": {},
   "outputs": [
    {
     "data": {
      "text/plain": [
       "'Friday'"
      ]
     },
     "execution_count": 18,
     "metadata": {},
     "output_type": "execute_result"
    }
   ],
   "source": [
    "date.strftime('%A')"
   ]
  },
  {
   "cell_type": "code",
   "execution_count": 19,
   "id": "a78c80ac",
   "metadata": {},
   "outputs": [
    {
     "data": {
      "text/plain": [
       "'October'"
      ]
     },
     "execution_count": 19,
     "metadata": {},
     "output_type": "execute_result"
    }
   ],
   "source": [
    "date.strftime('%B')"
   ]
  },
  {
   "cell_type": "markdown",
   "id": "ea16bca9",
   "metadata": {},
   "source": [
    "## 1.3.1 Pandasta Zaman Serileri"
   ]
  },
  {
   "cell_type": "markdown",
   "id": "283f4197",
   "metadata": {},
   "source": [
    "range kullanarak verilen iki tarihin aralığı alındı."
   ]
  },
  {
   "cell_type": "code",
   "execution_count": 20,
   "id": "93cc53d7",
   "metadata": {},
   "outputs": [
    {
     "data": {
      "text/plain": [
       "DatetimeIndex(['2018-05-30', '2018-05-31', '2018-06-01', '2018-06-02'], dtype='datetime64[ns]', freq='D')"
      ]
     },
     "execution_count": 20,
     "metadata": {},
     "output_type": "execute_result"
    }
   ],
   "source": [
    "pd.date_range('2018-05-30', '2018-06-02')"
   ]
  },
  {
   "cell_type": "markdown",
   "id": "c647bdb3",
   "metadata": {},
   "source": [
    "range içinde periods kullanarak verilen tarihle beraber sonra ki 4 tarih alındı."
   ]
  },
  {
   "cell_type": "code",
   "execution_count": 21,
   "id": "31994f55",
   "metadata": {},
   "outputs": [
    {
     "data": {
      "text/plain": [
       "DatetimeIndex(['2018-05-30', '2018-05-31', '2018-06-01', '2018-06-02'], dtype='datetime64[ns]', freq='D')"
      ]
     },
     "execution_count": 21,
     "metadata": {},
     "output_type": "execute_result"
    }
   ],
   "source": [
    "pd.date_range('2018-05-30', periods=4)"
   ]
  },
  {
   "cell_type": "markdown",
   "id": "917ad167",
   "metadata": {},
   "source": [
    "freq ile 'M' belirtildiği için ay olarak alındı."
   ]
  },
  {
   "cell_type": "code",
   "execution_count": 22,
   "id": "f50dd7f8",
   "metadata": {
    "scrolled": true
   },
   "outputs": [
    {
     "data": {
      "text/plain": [
       "DatetimeIndex(['2018-05-31', '2018-06-30', '2018-07-31', '2018-08-31'], dtype='datetime64[ns]', freq='M')"
      ]
     },
     "execution_count": 22,
     "metadata": {},
     "output_type": "execute_result"
    }
   ],
   "source": [
    "pd.date_range('2018-05-30', periods=4,freq='M')"
   ]
  },
  {
   "cell_type": "markdown",
   "id": "54e5eafb",
   "metadata": {},
   "source": [
    "Numpy'nin random fonksiyonu import edildi."
   ]
  },
  {
   "cell_type": "code",
   "execution_count": 23,
   "id": "c980eb60",
   "metadata": {},
   "outputs": [],
   "source": [
    "from numpy.random import randn\n",
    "idx =pd.date_range('2018-06-04 00:00:00',\n",
    "periods=4)\n",
    "cols =['A','B','C','D']"
   ]
  },
  {
   "cell_type": "markdown",
   "id": "2d1f1b2b",
   "metadata": {},
   "source": [
    "Rand yardımıyla dört satır ve dört sutun için veri oluşturacağız."
   ]
  },
  {
   "cell_type": "code",
   "execution_count": 24,
   "id": "600a27f6",
   "metadata": {},
   "outputs": [],
   "source": [
    "data =randn(len(idx),len(cols))"
   ]
  },
  {
   "cell_type": "code",
   "execution_count": 25,
   "id": "d8dc9a07",
   "metadata": {},
   "outputs": [
    {
     "name": "stdout",
     "output_type": "stream",
     "text": [
      "                   A         B         C         D\n",
      "date                                              \n",
      "2018-06-04 -0.013568  1.700910  0.078950 -1.039147\n",
      "2018-06-05 -0.313357 -0.028170 -0.385214  0.341031\n",
      "2018-06-06 -1.103062 -0.874382 -0.852661 -1.886447\n",
      "2018-06-07  0.535338 -1.059704 -0.401335 -0.538689\n"
     ]
    }
   ],
   "source": [
    "df =pd.DataFrame(data=data,\n",
    "index=idx, columns=cols)\n",
    "df.index.name='date'\n",
    "print(df)"
   ]
  },
  {
   "cell_type": "markdown",
   "id": "7499d36d",
   "metadata": {},
   "source": [
    "Yukarıdaki tablo veri özetlemek için kullanışlıdır ancak birçok uygulama uzun format veya erimiş bir veri kümesine sahip olmak ister. Yukarıdaki verileri gösterildiği gibi dikdörtgen yapmak yerine, tüm veri okumalarını tek bir sütunda yapılacak."
   ]
  },
  {
   "cell_type": "markdown",
   "id": "26a44a7e",
   "metadata": {},
   "source": [
    "Yapmamız gerekin ilk iş dizini sıfırlamak sonrasında veri çerçevesini eritmek, yeni tanımlayıcı değişken olan bir sütun oluşturulur. Son olarak değişken ve değer sütunlarının adları sırasıyla var_name ve value_name olarak belirtilir."
   ]
  },
  {
   "cell_type": "code",
   "execution_count": 26,
   "id": "18d5b049",
   "metadata": {},
   "outputs": [],
   "source": [
    "df.reset_index(inplace=True)"
   ]
  },
  {
   "cell_type": "code",
   "execution_count": 27,
   "id": "c221dc02",
   "metadata": {},
   "outputs": [],
   "source": [
    "melted=pd.melt(df,id_vars='date',\n",
    "var_name='feature',\n",
    "value_name='reading')"
   ]
  },
  {
   "cell_type": "code",
   "execution_count": 28,
   "id": "34c1d1f0",
   "metadata": {
    "scrolled": true
   },
   "outputs": [
    {
     "name": "stdout",
     "output_type": "stream",
     "text": [
      "         date feature   reading\n",
      "0  2018-06-04       A -0.013568\n",
      "1  2018-06-05       A -0.313357\n",
      "2  2018-06-06       A -1.103062\n",
      "3  2018-06-07       A  0.535338\n",
      "4  2018-06-04       B  1.700910\n",
      "5  2018-06-05       B -0.028170\n",
      "6  2018-06-06       B -0.874382\n",
      "7  2018-06-07       B -1.059704\n",
      "8  2018-06-04       C  0.078950\n",
      "9  2018-06-05       C -0.385214\n",
      "10 2018-06-06       C -0.852661\n",
      "11 2018-06-07       C -0.401335\n",
      "12 2018-06-04       D -1.039147\n",
      "13 2018-06-05       D  0.341031\n",
      "14 2018-06-06       D -1.886447\n",
      "15 2018-06-07       D -0.538689\n"
     ]
    }
   ],
   "source": [
    "print(melted)"
   ]
  },
  {
   "cell_type": "markdown",
   "id": "b7dcf0eb",
   "metadata": {},
   "source": [
    "## 1.3.2 Zaman Serisi Veri Manipülasyonu"
   ]
  },
  {
   "cell_type": "markdown",
   "id": "2b5c10bb",
   "metadata": {},
   "source": [
    "Apple Inc veri setini kullanacağız. Veri seti belirtilen adresten indirilir ve import edilir.\n",
    "Date (Tarih) adlı sütunu datetime olarak ele alınması gerekiyor ve bu dönüşümü yapmak için to_datetime kullanıldı. Format belirtildi.\n"
   ]
  },
  {
   "cell_type": "code",
   "execution_count": 29,
   "id": "5dbea0a1",
   "metadata": {
    "scrolled": true
   },
   "outputs": [
    {
     "data": {
      "text/html": [
       "<div>\n",
       "<style scoped>\n",
       "    .dataframe tbody tr th:only-of-type {\n",
       "        vertical-align: middle;\n",
       "    }\n",
       "\n",
       "    .dataframe tbody tr th {\n",
       "        vertical-align: top;\n",
       "    }\n",
       "\n",
       "    .dataframe thead th {\n",
       "        text-align: right;\n",
       "    }\n",
       "</style>\n",
       "<table border=\"1\" class=\"dataframe\">\n",
       "  <thead>\n",
       "    <tr style=\"text-align: right;\">\n",
       "      <th></th>\n",
       "      <th>Date</th>\n",
       "      <th>Open</th>\n",
       "      <th>High</th>\n",
       "      <th>Low</th>\n",
       "      <th>Close</th>\n",
       "      <th>Adj Close</th>\n",
       "      <th>Volume</th>\n",
       "    </tr>\n",
       "  </thead>\n",
       "  <tbody>\n",
       "    <tr>\n",
       "      <th>0</th>\n",
       "      <td>2017-04-25</td>\n",
       "      <td>143.910004</td>\n",
       "      <td>144.899994</td>\n",
       "      <td>143.869995</td>\n",
       "      <td>144.529999</td>\n",
       "      <td>142.279205</td>\n",
       "      <td>18871500</td>\n",
       "    </tr>\n",
       "    <tr>\n",
       "      <th>1</th>\n",
       "      <td>2017-04-26</td>\n",
       "      <td>144.470001</td>\n",
       "      <td>144.600006</td>\n",
       "      <td>143.380005</td>\n",
       "      <td>143.679993</td>\n",
       "      <td>141.442444</td>\n",
       "      <td>20041200</td>\n",
       "    </tr>\n",
       "    <tr>\n",
       "      <th>2</th>\n",
       "      <td>2017-04-27</td>\n",
       "      <td>143.919998</td>\n",
       "      <td>144.160004</td>\n",
       "      <td>143.309998</td>\n",
       "      <td>143.789993</td>\n",
       "      <td>141.550735</td>\n",
       "      <td>14246300</td>\n",
       "    </tr>\n",
       "    <tr>\n",
       "      <th>3</th>\n",
       "      <td>2017-04-28</td>\n",
       "      <td>144.089996</td>\n",
       "      <td>144.300003</td>\n",
       "      <td>143.270004</td>\n",
       "      <td>143.649994</td>\n",
       "      <td>141.412918</td>\n",
       "      <td>20860400</td>\n",
       "    </tr>\n",
       "    <tr>\n",
       "      <th>4</th>\n",
       "      <td>2017-05-01</td>\n",
       "      <td>145.100006</td>\n",
       "      <td>147.199997</td>\n",
       "      <td>144.960007</td>\n",
       "      <td>146.580002</td>\n",
       "      <td>144.297287</td>\n",
       "      <td>33602900</td>\n",
       "    </tr>\n",
       "  </tbody>\n",
       "</table>\n",
       "</div>"
      ],
      "text/plain": [
       "        Date        Open        High         Low       Close   Adj Close  \\\n",
       "0 2017-04-25  143.910004  144.899994  143.869995  144.529999  142.279205   \n",
       "1 2017-04-26  144.470001  144.600006  143.380005  143.679993  141.442444   \n",
       "2 2017-04-27  143.919998  144.160004  143.309998  143.789993  141.550735   \n",
       "3 2017-04-28  144.089996  144.300003  143.270004  143.649994  141.412918   \n",
       "4 2017-05-01  145.100006  147.199997  144.960007  146.580002  144.297287   \n",
       "\n",
       "     Volume  \n",
       "0  18871500  \n",
       "1  20041200  \n",
       "2  14246300  \n",
       "3  20860400  \n",
       "4  33602900  "
      ]
     },
     "execution_count": 29,
     "metadata": {},
     "output_type": "execute_result"
    }
   ],
   "source": [
    "appl =pd.read_csv('APPL.CSV')\n",
    "appl.Date =pd.to_datetime(appl.Date,\n",
    "format='%Y-%m-%d')\n",
    "appl.head()"
   ]
  },
  {
   "cell_type": "markdown",
   "id": "ee7acf20",
   "metadata": {},
   "source": [
    "Close sütununa odaklanılacak ancak bunu yapmadan önce Date sütunu tarafından sağlananları dizine eklenecek."
   ]
  },
  {
   "cell_type": "code",
   "execution_count": 30,
   "id": "ec892bc6",
   "metadata": {},
   "outputs": [],
   "source": [
    "appl.set_index('Date', inplace=True)"
   ]
  },
  {
   "cell_type": "markdown",
   "id": "b9cd40b7",
   "metadata": {},
   "source": [
    "Artık Close (kapanış) fiyatlarına bakabiliriz."
   ]
  },
  {
   "cell_type": "code",
   "execution_count": 31,
   "id": "8325311c",
   "metadata": {},
   "outputs": [
    {
     "data": {
      "text/plain": [
       "Date\n",
       "2017-04-25    144.529999\n",
       "2017-04-26    143.679993\n",
       "2017-04-27    143.789993\n",
       "Name: Close, dtype: float64"
      ]
     },
     "execution_count": 31,
     "metadata": {},
     "output_type": "execute_result"
    }
   ],
   "source": [
    "appl['Close'].head(3)"
   ]
  },
  {
   "cell_type": "markdown",
   "id": "9ff5c45b",
   "metadata": {},
   "source": [
    "Sağlanan veriler otomatik olarak zaten sıralanmıştır ancak dizin verilerinin doğru sırada olmadığına biliyorsak bunu kullanmalıyız:"
   ]
  },
  {
   "cell_type": "code",
   "execution_count": 32,
   "id": "ac80c972",
   "metadata": {},
   "outputs": [],
   "source": [
    "df.sort_index(inplace=True)"
   ]
  },
  {
   "cell_type": "markdown",
   "id": "1e9e6fb7",
   "metadata": {},
   "source": [
    "Hesaplama sonucu aşağıdaki gibidir:"
   ]
  },
  {
   "cell_type": "code",
   "execution_count": 33,
   "id": "5481c95b",
   "metadata": {},
   "outputs": [],
   "source": [
    "appl['pct_change'] =appl.Close.pct_change()"
   ]
  },
  {
   "cell_type": "code",
   "execution_count": 34,
   "id": "4bf6bc66",
   "metadata": {},
   "outputs": [
    {
     "data": {
      "text/plain": [
       "Date\n",
       "2018-04-23   -0.002896\n",
       "2018-04-24   -0.013919\n",
       "2018-04-25    0.004357\n",
       "Name: pct_change, dtype: float64"
      ]
     },
     "execution_count": 34,
     "metadata": {},
     "output_type": "execute_result"
    }
   ],
   "source": [
    "appl['pct_change'].tail(3)"
   ]
  },
  {
   "cell_type": "markdown",
   "id": "3d419f0b",
   "metadata": {},
   "source": [
    "t ve sonraki zaman dilimleri arasındaki farkı diff() metodu ile alındı."
   ]
  },
  {
   "cell_type": "code",
   "execution_count": 35,
   "id": "6870afa0",
   "metadata": {},
   "outputs": [],
   "source": [
    "appl['log_ret'] =np.log(appl.Close).diff()"
   ]
  },
  {
   "cell_type": "markdown",
   "id": "efe0b058",
   "metadata": {},
   "source": [
    "Oluşturduğumuz yeni sütundaki değerlere bakarak işlem sonucu aşağıdaki gibidir."
   ]
  },
  {
   "cell_type": "code",
   "execution_count": 36,
   "id": "ae7236d8",
   "metadata": {},
   "outputs": [
    {
     "data": {
      "text/plain": [
       "Date\n",
       "2018-04-23   -0.002901\n",
       "2018-04-24   -0.014017\n",
       "2018-04-25    0.004348\n",
       "Name: log_ret, dtype: float64"
      ]
     },
     "execution_count": 36,
     "metadata": {},
     "output_type": "execute_result"
    }
   ],
   "source": [
    "appl['log_ret'].tail(3)"
   ]
  },
  {
   "cell_type": "markdown",
   "id": "5fc69c3a",
   "metadata": {},
   "source": [
    "\n",
    "\n"
   ]
  },
  {
   "cell_type": "markdown",
   "id": "25f3d62a",
   "metadata": {},
   "source": [
    "SIRADAKİ ÖRNEK BITCOIN/USD exchange rate:\n",
    "Verileri inceleyecek olursak tarihin time_start adlı sütunda saklandığı ve biçiminin dd-MM-yyyy hh:mm şeklinde olduğunu görülür."
   ]
  },
  {
   "cell_type": "code",
   "execution_count": 37,
   "id": "cf254c20",
   "metadata": {
    "scrolled": true
   },
   "outputs": [],
   "source": [
    "parser =lambda date: pd.datetime.\\\n",
    "strptime(date, '%d/%m/%Y %H:%M')"
   ]
  },
  {
   "cell_type": "markdown",
   "id": "299e0745",
   "metadata": {},
   "source": [
    " Veriler ve tarihler aynı anda ayrışacak. Ayrıştırılacak sütunları ve nasıl ayrıştırıldığını belirtiyoruz. (Versiyon farkından dolayı hata) "
   ]
  },
  {
   "cell_type": "code",
   "execution_count": 38,
   "id": "8d37ef62",
   "metadata": {},
   "outputs": [
    {
     "name": "stderr",
     "output_type": "stream",
     "text": [
      "C:\\Users\\NORA JDK\\AppData\\Local\\Temp\\ipykernel_11644\\672998254.py:1: FutureWarning: The pandas.datetime class is deprecated and will be removed from pandas in a future version. Import from datetime module instead.\n",
      "  parser =lambda date: pd.datetime.\\\n"
     ]
    }
   ],
   "source": [
    "fname ='bitcoin_usd.csv'\n",
    "bitcoin =pd.read_csv(fname,\n",
    "parse_dates=['time_start'],\n",
    "date_parser=parser,\n",
    "index_col='time_start')"
   ]
  },
  {
   "cell_type": "code",
   "execution_count": 39,
   "id": "4a8b7d86",
   "metadata": {},
   "outputs": [],
   "source": [
    "ticks =bitcoin[['close','volume']]"
   ]
  },
  {
   "cell_type": "code",
   "execution_count": 40,
   "id": "60a39971",
   "metadata": {},
   "outputs": [
    {
     "data": {
      "text/html": [
       "<div>\n",
       "<style scoped>\n",
       "    .dataframe tbody tr th:only-of-type {\n",
       "        vertical-align: middle;\n",
       "    }\n",
       "\n",
       "    .dataframe tbody tr th {\n",
       "        vertical-align: top;\n",
       "    }\n",
       "\n",
       "    .dataframe thead th {\n",
       "        text-align: right;\n",
       "    }\n",
       "</style>\n",
       "<table border=\"1\" class=\"dataframe\">\n",
       "  <thead>\n",
       "    <tr style=\"text-align: right;\">\n",
       "      <th></th>\n",
       "      <th>close</th>\n",
       "      <th>volume</th>\n",
       "    </tr>\n",
       "    <tr>\n",
       "      <th>time_start</th>\n",
       "      <th></th>\n",
       "      <th></th>\n",
       "    </tr>\n",
       "  </thead>\n",
       "  <tbody>\n",
       "    <tr>\n",
       "      <th>2016-03-31 00:00:00</th>\n",
       "      <td>413.27</td>\n",
       "      <td>8.953746</td>\n",
       "    </tr>\n",
       "    <tr>\n",
       "      <th>2016-03-31 00:05:00</th>\n",
       "      <td>413.26</td>\n",
       "      <td>0.035157</td>\n",
       "    </tr>\n",
       "    <tr>\n",
       "      <th>2016-03-31 00:10:00</th>\n",
       "      <td>413.51</td>\n",
       "      <td>43.640052</td>\n",
       "    </tr>\n",
       "    <tr>\n",
       "      <th>2016-03-31 00:15:00</th>\n",
       "      <td>414.98</td>\n",
       "      <td>0.038896</td>\n",
       "    </tr>\n",
       "    <tr>\n",
       "      <th>2016-03-31 00:20:00</th>\n",
       "      <td>414.98</td>\n",
       "      <td>0.241800</td>\n",
       "    </tr>\n",
       "    <tr>\n",
       "      <th>...</th>\n",
       "      <td>...</td>\n",
       "      <td>...</td>\n",
       "    </tr>\n",
       "    <tr>\n",
       "      <th>2016-04-03 23:35:00</th>\n",
       "      <td>420.60</td>\n",
       "      <td>0.000000</td>\n",
       "    </tr>\n",
       "    <tr>\n",
       "      <th>2016-04-03 23:40:00</th>\n",
       "      <td>NaN</td>\n",
       "      <td>NaN</td>\n",
       "    </tr>\n",
       "    <tr>\n",
       "      <th>2016-04-03 23:45:00</th>\n",
       "      <td>NaN</td>\n",
       "      <td>NaN</td>\n",
       "    </tr>\n",
       "    <tr>\n",
       "      <th>2016-04-03 23:50:00</th>\n",
       "      <td>420.60</td>\n",
       "      <td>0.955772</td>\n",
       "    </tr>\n",
       "    <tr>\n",
       "      <th>2016-04-03 23:55:00</th>\n",
       "      <td>421.00</td>\n",
       "      <td>58.000000</td>\n",
       "    </tr>\n",
       "  </tbody>\n",
       "</table>\n",
       "<p>1152 rows × 2 columns</p>\n",
       "</div>"
      ],
      "text/plain": [
       "                      close     volume\n",
       "time_start                            \n",
       "2016-03-31 00:00:00  413.27   8.953746\n",
       "2016-03-31 00:05:00  413.26   0.035157\n",
       "2016-03-31 00:10:00  413.51  43.640052\n",
       "2016-03-31 00:15:00  414.98   0.038896\n",
       "2016-03-31 00:20:00  414.98   0.241800\n",
       "...                     ...        ...\n",
       "2016-04-03 23:35:00  420.60   0.000000\n",
       "2016-04-03 23:40:00     NaN        NaN\n",
       "2016-04-03 23:45:00     NaN        NaN\n",
       "2016-04-03 23:50:00  420.60   0.955772\n",
       "2016-04-03 23:55:00  421.00  58.000000\n",
       "\n",
       "[1152 rows x 2 columns]"
      ]
     },
     "execution_count": 40,
     "metadata": {},
     "output_type": "execute_result"
    }
   ],
   "source": [
    "ticks.resample('5Min').first()"
   ]
  },
  {
   "cell_type": "code",
   "execution_count": 41,
   "id": "250d67f4",
   "metadata": {},
   "outputs": [
    {
     "data": {
      "text/html": [
       "<div>\n",
       "<style scoped>\n",
       "    .dataframe tbody tr th:only-of-type {\n",
       "        vertical-align: middle;\n",
       "    }\n",
       "\n",
       "    .dataframe tbody tr th {\n",
       "        vertical-align: top;\n",
       "    }\n",
       "\n",
       "    .dataframe thead th {\n",
       "        text-align: right;\n",
       "    }\n",
       "</style>\n",
       "<table border=\"1\" class=\"dataframe\">\n",
       "  <thead>\n",
       "    <tr style=\"text-align: right;\">\n",
       "      <th></th>\n",
       "      <th>close</th>\n",
       "      <th>volume</th>\n",
       "    </tr>\n",
       "    <tr>\n",
       "      <th>time_start</th>\n",
       "      <th></th>\n",
       "      <th></th>\n",
       "    </tr>\n",
       "  </thead>\n",
       "  <tbody>\n",
       "    <tr>\n",
       "      <th>2016-03-31</th>\n",
       "      <td>416.02</td>\n",
       "      <td>0.200000</td>\n",
       "    </tr>\n",
       "    <tr>\n",
       "      <th>2016-04-01</th>\n",
       "      <td>417.90</td>\n",
       "      <td>52.099684</td>\n",
       "    </tr>\n",
       "    <tr>\n",
       "      <th>2016-04-02</th>\n",
       "      <td>420.30</td>\n",
       "      <td>0.850000</td>\n",
       "    </tr>\n",
       "    <tr>\n",
       "      <th>2016-04-03</th>\n",
       "      <td>420.60</td>\n",
       "      <td>0.984358</td>\n",
       "    </tr>\n",
       "  </tbody>\n",
       "</table>\n",
       "</div>"
      ],
      "text/plain": [
       "             close     volume\n",
       "time_start                   \n",
       "2016-03-31  416.02   0.200000\n",
       "2016-04-01  417.90  52.099684\n",
       "2016-04-02  420.30   0.850000\n",
       "2016-04-03  420.60   0.984358"
      ]
     },
     "execution_count": 41,
     "metadata": {},
     "output_type": "execute_result"
    }
   ],
   "source": [
    "ticks.resample('D').last()"
   ]
  },
  {
   "cell_type": "markdown",
   "id": "6f5a0d1c",
   "metadata": {},
   "source": [
    "\n",
    "## 1.4 Zaman Serisi Verilerinin Modellenmesi"
   ]
  },
  {
   "cell_type": "markdown",
   "id": "a2dca415",
   "metadata": {},
   "source": [
    "Pdf'teki beyaz gürültü grafiği gösterildi."
   ]
  },
  {
   "cell_type": "code",
   "execution_count": 42,
   "id": "f5acca96",
   "metadata": {},
   "outputs": [],
   "source": [
    "import matplotlib.pyplot as plt"
   ]
  },
  {
   "cell_type": "code",
   "execution_count": 43,
   "id": "135884c2",
   "metadata": {
    "scrolled": true
   },
   "outputs": [
    {
     "data": {
      "image/png": "[encoded data removed]",
      "text/plain": [
       "<Figure size 432x288 with 1 Axes>"
      ]
     },
     "metadata": {
      "needs_background": "light"
     },
     "output_type": "display_data"
    }
   ],
   "source": [
    "white =2*np.random.random(size=2048)-1\n",
    "white =pd.Series(white)\n",
    "plt.plot(white)\n",
    "plt.show()"
   ]
  },
  {
   "cell_type": "markdown",
   "id": "d4b2d1c8",
   "metadata": {},
   "source": [
    "Otokorelasyon: Gözlemlenen değerler arasındaki benzerliğin, zamansal gecikmenin bir fonksiyonu olarak ifadesidir.\n",
    "\n",
    "Otokorelasyon hesaplaması -1 ile 1 arasındadır. Oluşturulan beyaz gürültü için otokorelasyon hesaplayalım."
   ]
  },
  {
   "cell_type": "code",
   "execution_count": 44,
   "id": "23967516",
   "metadata": {},
   "outputs": [
    {
     "name": "stdout",
     "output_type": "stream",
     "text": [
      "Autocorrelation atlag=1 is 0.0010496146184553964\n",
      "Autocorrelation atlag=2 is 0.045412840608835645\n",
      "Autocorrelation atlag=3 is -0.028834566898154695\n",
      "Autocorrelation atlag=4 is 0.016915613146827813\n"
     ]
    }
   ],
   "source": [
    "for lag in range(1,5):\n",
    "    print(\"Autocorrelation atlag={0} is {1}\".\\\n",
    "        format(lag, white.autocorr(lag)))"
   ]
  },
  {
   "cell_type": "markdown",
   "id": "dab9a5a8",
   "metadata": {},
   "source": [
    "Orta değerin hesaplanması aşağıdaki gibi yapılır."
   ]
  },
  {
   "cell_type": "code",
   "execution_count": 45,
   "id": "89c16e60",
   "metadata": {},
   "outputs": [
    {
     "name": "stdout",
     "output_type": "stream",
     "text": [
      "0.0064602943071655206\n"
     ]
    }
   ],
   "source": [
    "print(white.mean())"
   ]
  },
  {
   "cell_type": "markdown",
   "id": "c0ea697c",
   "metadata": {},
   "source": [
    "##  1.4.2 Hareketli Ortalamalar ve Üstel Yumuşatma"
   ]
  },
  {
   "cell_type": "markdown",
   "id": "197cc08a",
   "metadata": {},
   "source": [
    "Zaman serilerini geçmiş değerlerine dayanarak gecelteki değerini tahmin edebiliriz.\n",
    "\n",
    "Hareketli Ortalama, veri kümesinin farklı alt kümelerinin bir dizi ortalamasını oluşturarak veri noktalarını analiz etmek için bir hesaplamadır.\n",
    "\n",
    "Üstel Yumuşatma, verilerdeki son değişim ve sıçramaları dikkate alarak gelecekteki davranışını tahmin etmeye çalışan bir yöntemdir.\n",
    "\n",
    "Pandasta bir zaman serisindeki hareketli ortalamalar ve  üstel yumuşatma hesaplanabilir. Hareketli ortalamalar  Pandasta veri çerçeveleri için yuvarlama yöntemini kullanır.\n",
    "\n",
    "\n",
    "Apple Inc' in kapanış fiyatlarını yazalım.\n",
    "\n"
   ]
  },
  {
   "cell_type": "code",
   "execution_count": 46,
   "id": "16772928",
   "metadata": {},
   "outputs": [],
   "source": [
    "appl['MA32']= appl['Close'].rolling(window=3).mean()"
   ]
  },
  {
   "cell_type": "markdown",
   "id": "d7e0d398",
   "metadata": {},
   "source": [
    "Burada hareketli pencerenin boyutunu belirtildi ve verilerin toplanmasının değerinin ortalaması olacağını belirttik."
   ]
  },
  {
   "cell_type": "markdown",
   "id": "c66a7abd",
   "metadata": {},
   "source": [
    "Alfa parametresini aşağıdaki gibi iletildi.\n",
    "\n",
    "MA: HAREKETLİ ORTALAMALAR\n"
   ]
  },
  {
   "cell_type": "code",
   "execution_count": 47,
   "id": "beff4c4a",
   "metadata": {},
   "outputs": [
    {
     "data": {
      "text/plain": [
       "<AxesSubplot:xlabel='Date'>"
      ]
     },
     "execution_count": 47,
     "metadata": {},
     "output_type": "execute_result"
    },
    {
     "data": {
      "image/png": "[encoded data removed]",
      "text/plain": [
       "<Figure size 432x288 with 1 Axes>"
      ]
     },
     "metadata": {
      "needs_background": "light"
     },
     "output_type": "display_data"
    },
    {
     "data": {
      "image/png": "[encoded data removed]",
      "text/plain": [
       "<Figure size 432x288 with 1 Axes>"
      ]
     },
     "metadata": {
      "needs_background": "light"
     },
     "output_type": "display_data"
    }
   ],
   "source": [
    "alpha=0.6\n",
    "appl['MA3']=appl['Close'].ewm(alpha=alpha).mean()\n",
    "appl.plot()\n",
    "\n",
    "appl[['Close', 'MA3']].plot()"
   ]
  },
  {
   "cell_type": "markdown",
   "id": "1405fd8d",
   "metadata": {},
   "source": [
    "##  1.4.3 Mevsimsellik"
   ]
  },
  {
   "cell_type": "markdown",
   "id": "13efa3f9",
   "metadata": {},
   "source": [
    "Mevsimsellik, bir zaman serisinde her yıl aynı dönemde tekrar eden hareketler olarak tanımlanabilir.\n",
    "Zaman serilerinde mevsimsel düzeltme, gözlenen serinin mevsimsel dalgalanmalardan ve temel trendlerden arındırılması anlamına gelmektedir.\n",
    "\n",
    "Örneklendirmek için Güneş lekesi veri setini incelenecek.\n",
    "Buradaki amaç aylık verileri yıllık olarak görebilmek."
   ]
  },
  {
   "cell_type": "code",
   "execution_count": 48,
   "id": "2741dd71",
   "metadata": {},
   "outputs": [],
   "source": [
    "sun =pd.read_csv('sunspots_month.csv')\n",
    "sun.Year =pd.to_datetime(sun.Year,\n",
    "format='%Y-%m-%d')\n",
    "sun.set_index('Year', inplace=True)"
   ]
  },
  {
   "cell_type": "markdown",
   "id": "3c62941d",
   "metadata": {},
   "source": [
    "Veri seti tanıtılıp tarihlerin ayrışması gereken biçim belirtildi.\n",
    "Veri setimizdeki hangi sütunun dizin olduğu belirtildi.\n",
    "\n"
   ]
  },
  {
   "cell_type": "markdown",
   "id": "63d05dca",
   "metadata": {},
   "source": [
    "Verileri yıllık frekanslarla yeniden örneklendiriyoruz."
   ]
  },
  {
   "cell_type": "code",
   "execution_count": 49,
   "id": "59725fee",
   "metadata": {},
   "outputs": [],
   "source": [
    "sun_year =sun.resample('Y').mean()"
   ]
  },
  {
   "cell_type": "markdown",
   "id": "a76fb13b",
   "metadata": {},
   "source": [
    "Hızlı Fourier dönüşümünü (Hızlı Fourier dönüşümünü) sciyp'den import edildi."
   ]
  },
  {
   "cell_type": "code",
   "execution_count": 50,
   "id": "77261af6",
   "metadata": {},
   "outputs": [],
   "source": [
    "from scipy import fftpack"
   ]
  },
  {
   "cell_type": "markdown",
   "id": "ca22aeb0",
   "metadata": {},
   "source": [
    "Sinyalin FFT'sini ve normalizasyon sabiti hesaplandı."
   ]
  },
  {
   "cell_type": "markdown",
   "id": "5c716a4a",
   "metadata": {
    "scrolled": true
   },
   "source": [
    "Y=fftpack.fft(sun_year['Value'])\n",
    "n=int(len(Y)/2)"
   ]
  },
  {
   "cell_type": "markdown",
   "id": "48558022",
   "metadata": {},
   "source": [
    "Sinyaldeki frekansları tutacak bir dizi oluşturuldu ve dönem ters frekanstır.\n",
    "Bu bilgilerle dönem elde edildi\n",
    "\n",
    "\n",
    "freq=np.array(range(n))/(2*n)\n",
    "period=1./freq\n",
    "\n",
    "\n",
    "Sinyali güç spekturumu hesaplandı.\n",
    "\n",
    "\n",
    "power=abs(Y[1:n])**2\n",
    "\n"
   ]
  },
  {
   "cell_type": "markdown",
   "id": "d68ed393",
   "metadata": {},
   "source": [
    "Güneş lekeleri verilerinin güç spekturum analizi. Maksimum değerin yaklaşık her 11 yılda bir gerçekleştiği görüldü."
   ]
  },
  {
   "cell_type": "code",
   "execution_count": 51,
   "id": "69c00b2e",
   "metadata": {},
   "outputs": [
    {
     "data": {
      "image/png": "[encoded data removed]",
      "text/plain": [
       "<IPython.core.display.Image object>"
      ]
     },
     "execution_count": 51,
     "metadata": {},
     "output_type": "execute_result"
    }
   ],
   "source": [
    "Image(\"sunevery11year.png\")"
   ]
  },
  {
   "cell_type": "markdown",
   "id": "143f2460",
   "metadata": {},
   "source": [
    "ÖZET: Bu bölümde zaman serisi verileriyle uğraşmanın bazı önemli yönlerini ele aldık. Zaman bileşeninden dolayı zaman serilerinin diğer veri kümelerinden farklı olduğunu gördük. Apple Inc' in fiyatlarını, 1700'lerin ortalarından bu yana güneş lekelerinin faaliyetini inceledik. PANDAS sayesinde bu çeşitli veri setleriyle başa çıkabildik. Çeşitli yöntemlerle istediğimiz sonuçları elde ettik."
   ]
  }
 ],
 "metadata": {
  "kernelspec": {
   "display_name": "Python 3 (ipykernel)",
   "language": "python",
   "name": "python3"
  },
  "language_info": {
   "codemirror_mode": {
    "name": "ipython",
    "version": 3
   },
   "file_extension": ".py",
   "mimetype": "text/x-python",
   "name": "python",
   "nbconvert_exporter": "python",
   "pygments_lexer": "ipython3",
   "version": "3.9.12"
  }
 },
 "nbformat": 4,
 "nbformat_minor": 5
}
